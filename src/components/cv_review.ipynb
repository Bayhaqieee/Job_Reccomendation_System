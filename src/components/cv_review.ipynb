{
 "cells": [
  {
   "cell_type": "code",
   "execution_count": 1,
   "metadata": {},
   "outputs": [],
   "source": [
    "\n",
    "import re\n",
    "from collections import Counter\n",
    "import docx\n",
    "import skills_extraction as skills_extraction"
   ]
  },
  {
   "cell_type": "code",
   "execution_count": 2,
   "metadata": {},
   "outputs": [],
   "source": [
    "# Function to extract text from DOCX file\n",
    "def extract_text_from_docx(file_path):\n",
    "    doc = docx.Document(file_path)\n",
    "    full_text = []\n",
    "    for para in doc.paragraphs:\n",
    "        full_text.append(para.text)\n",
    "    return '\\n'.join(full_text)"
   ]
  },
  {
   "cell_type": "code",
   "execution_count": 3,
   "metadata": {},
   "outputs": [],
   "source": [
    "def extract_keywords_from_position(position, jd_df):\n",
    "    position_skills = jd_df[jd_df['Position'] == position]['Skills'].values\n",
    "    if position_skills:\n",
    "        skills_list = position_skills[0].split(',')\n",
    "        return [skill.strip() for skill in skills_list]\n",
    "    return []"
   ]
  },
  {
   "cell_type": "code",
   "execution_count": 4,
   "metadata": {},
   "outputs": [],
   "source": [
    "def review_cv(file_path, job_position, jd_df):\n",
    "    try:\n",
    "        # Extract text from PDF or DOCX resume\n",
    "        if file_path.endswith('.pdf'):\n",
    "            resume_text = skills_extraction.extract_text_from_pdf(file_path)\n",
    "        elif file_path.endswith('.docx'):\n",
    "            resume_text = extract_text_from_docx(file_path)\n",
    "        else:\n",
    "            return None, \"Unsupported file format\"\n",
    "        \n",
    "        # Extract keywords from the job position\n",
    "        required_keywords = extract_keywords_from_position(job_position, jd_df)\n",
    "        \n",
    "        # Extract skills from resume\n",
    "        resume_keywords = resume_text.split()\n",
    "        keyword_counts = Counter(resume_keywords)\n",
    "        keyword_score = sum(keyword_counts[keyword] for keyword in required_keywords if keyword in keyword_counts)\n",
    "        \n",
    "        # Standardize section names\n",
    "        section_mapping = {\n",
    "            \"About\": \"About me\",\n",
    "            \"Education\": \"Educations\",\n",
    "            \"Professional Experience\": \"Professional Experience\",\n",
    "            \"Organization Experience\": \"Organizational Experience\",\n",
    "            \"Committee Experience\": \"Organizational Experience\",\n",
    "            \"Projects\": \"Project\",\n",
    "            \"Skill\": \"Skills\",\n",
    "            \"Key Competencies\": \"Skills\",\n",
    "            \"Courses\": \"Course\"\n",
    "        }\n",
    "        standardized_sections = {}\n",
    "        for section in section_mapping:\n",
    "            if re.search(section, resume_text, re.IGNORECASE):\n",
    "                standardized_sections[section_mapping[section]] = 1\n",
    "            else:\n",
    "                standardized_sections[section_mapping[section]] = 0\n",
    "        \n",
    "        # Overall score\n",
    "        total_score = sum(standardized_sections.values()) + keyword_score\n",
    "        max_score = len(section_mapping) + len(required_keywords)\n",
    "        grade = (total_score / max_score) * 100\n",
    "        \n",
    "        return standardized_sections, grade\n",
    "    \n",
    "    except Exception as e:\n",
    "        return None, str(e)"
   ]
  },
  {
   "cell_type": "code",
   "execution_count": null,
   "metadata": {},
   "outputs": [],
   "source": []
  }
 ],
 "metadata": {
  "kernelspec": {
   "display_name": "Python 3",
   "language": "python",
   "name": "python3"
  },
  "language_info": {
   "codemirror_mode": {
    "name": "ipython",
    "version": 3
   },
   "file_extension": ".py",
   "mimetype": "text/x-python",
   "name": "python",
   "nbconvert_exporter": "python",
   "pygments_lexer": "ipython3",
   "version": "3.12.3"
  }
 },
 "nbformat": 4,
 "nbformat_minor": 2
}
